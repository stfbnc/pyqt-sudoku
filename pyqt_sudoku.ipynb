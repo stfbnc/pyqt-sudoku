{
 "cells": [
  {
   "cell_type": "code",
   "execution_count": 1,
   "metadata": {},
   "outputs": [],
   "source": [
    "import tensorflow as tf\n",
    "import matplotlib.pyplot as plt\n",
    "import numpy as np\n",
    "from tensorflow.keras.optimizers import SGD\n",
    "import tensorflow.keras.preprocessing.image as tf_image"
   ]
  },
  {
   "cell_type": "code",
   "execution_count": 2,
   "metadata": {},
   "outputs": [],
   "source": [
    "def load_board_img(img_name):\n",
    "    img = tf_image.load_img(img_name, target_size=(28, 28))\n",
    "  \n",
    "    x = tf_image.img_to_array(img)\n",
    "    x = np.expand_dims(x, axis=0)\n",
    "    img_array = np.vstack([x])\n",
    "    img_gray = tf.image.rgb_to_grayscale(img_array)\n",
    "    img_gray = 1.0 - (img_gray / 255.0)\n",
    "    \n",
    "    num = int(img_name.split('/')[-1].split('_')[0][1])\n",
    "    one_hot = np.zeros((1, 9), dtype=int)\n",
    "    one_hot[:, num-1] = 1\n",
    "    \n",
    "    return img_gray.numpy(), one_hot"
   ]
  },
  {
   "cell_type": "markdown",
   "metadata": {},
   "source": [
    "# Training and test"
   ]
  },
  {
   "cell_type": "code",
   "execution_count": 3,
   "metadata": {},
   "outputs": [],
   "source": [
    "mnist = tf.keras.datasets.mnist\n",
    "(x_train, y_train), (x_test, y_test) = mnist.load_data()"
   ]
  },
  {
   "cell_type": "code",
   "execution_count": 4,
   "metadata": {},
   "outputs": [
    {
     "name": "stdout",
     "output_type": "stream",
     "text": [
      "(60000, 28, 28)\n",
      "(60000,)\n",
      "(10000, 28, 28)\n",
      "(10000,)\n"
     ]
    }
   ],
   "source": [
    "print(x_train.shape)\n",
    "print(y_train.shape)\n",
    "print(x_test.shape)\n",
    "print(y_test.shape)"
   ]
  },
  {
   "cell_type": "markdown",
   "metadata": {},
   "source": [
    "Remove 0, not needed for sudoku."
   ]
  },
  {
   "cell_type": "code",
   "execution_count": 5,
   "metadata": {},
   "outputs": [],
   "source": [
    "idxs_1_9_train = np.where(y_train != 0)[0]\n",
    "idxs_1_9_test = np.where(y_test != 0)[0]\n",
    "x_train = x_train[idxs_1_9_train]\n",
    "y_train = y_train[idxs_1_9_train]\n",
    "x_test = x_test[idxs_1_9_test]\n",
    "y_test = y_test[idxs_1_9_test]"
   ]
  },
  {
   "cell_type": "code",
   "execution_count": 6,
   "metadata": {},
   "outputs": [
    {
     "name": "stdout",
     "output_type": "stream",
     "text": [
      "(54077, 28, 28)\n",
      "(54077,)\n",
      "(9020, 28, 28)\n",
      "(9020,)\n"
     ]
    }
   ],
   "source": [
    "print(x_train.shape)\n",
    "print(y_train.shape)\n",
    "print(x_test.shape)\n",
    "print(y_test.shape)"
   ]
  },
  {
   "cell_type": "code",
   "execution_count": 7,
   "metadata": {},
   "outputs": [],
   "source": [
    "x_train = x_train.reshape((x_train.shape[0], 28, 28, 1))\n",
    "x_test = x_test.reshape((x_test.shape[0], 28, 28, 1))\n",
    "y_train = tf.keras.utils.to_categorical(y_train, num_classes=10, dtype=int)\n",
    "y_test = tf.keras.utils.to_categorical(y_test, num_classes=10, dtype=int)"
   ]
  },
  {
   "cell_type": "code",
   "execution_count": 8,
   "metadata": {},
   "outputs": [],
   "source": [
    "y_test = y_test[:, 1:]\n",
    "y_train = y_train[:, 1:]"
   ]
  },
  {
   "cell_type": "code",
   "execution_count": 9,
   "metadata": {},
   "outputs": [],
   "source": [
    "x_train = x_train.astype('float32') / 255.0\n",
    "x_test = x_test.astype('float32') / 255.0"
   ]
  },
  {
   "cell_type": "code",
   "execution_count": 14,
   "metadata": {
    "scrolled": true
   },
   "outputs": [],
   "source": [
    "import glob\n",
    "from random import shuffle\n",
    "\n",
    "new_train = []\n",
    "new_test = []\n",
    "for i in range(1, 10):\n",
    "    nd = glob.glob('imgs_from_board/' + str(i) + '/*.jpg')\n",
    "    shuffle(nd)\n",
    "    new_test.extend(nd[:14])\n",
    "    new_train.extend(nd[14:])"
   ]
  },
  {
   "cell_type": "code",
   "execution_count": 15,
   "metadata": {},
   "outputs": [],
   "source": [
    "for train_img in new_train:\n",
    "    new_img, img_num = load_board_img(train_img)\n",
    "    x_train = np.append(x_train, new_img, axis=0)\n",
    "    y_train = np.append(y_train, img_num, axis=0)\n",
    "    \n",
    "for test_img in new_test:\n",
    "    new_img, img_num = load_board_img(test_img)\n",
    "    x_test = np.append(x_test, new_img, axis=0)\n",
    "    y_test = np.append(y_test, img_num, axis=0)"
   ]
  },
  {
   "cell_type": "code",
   "execution_count": 22,
   "metadata": {},
   "outputs": [],
   "source": [
    "model = tf.keras.models.Sequential()\n",
    "model.add(tf.keras.layers.Conv2D(32, (3, 3), activation=tf.nn.relu, kernel_initializer='he_uniform',\n",
    "                                 input_shape=(28, 28, 1)))\n",
    "model.add(tf.keras.layers.MaxPooling2D((2, 2)))\n",
    "model.add(tf.keras.layers.Flatten())\n",
    "model.add(tf.keras.layers.Dense(100, activation=tf.nn.relu, kernel_initializer='he_uniform'))\n",
    "model.add(tf.keras.layers.Dense(100, activation=tf.nn.relu, kernel_initializer='he_uniform'))\n",
    "model.add(tf.keras.layers.Dense(9, activation=tf.nn.softmax))"
   ]
  },
  {
   "cell_type": "code",
   "execution_count": 23,
   "metadata": {},
   "outputs": [],
   "source": [
    "opt = SGD(lr=0.01, momentum=0.9)\n",
    "model.compile(optimizer=opt, loss='categorical_crossentropy', metrics=['accuracy'])"
   ]
  },
  {
   "cell_type": "code",
   "execution_count": 24,
   "metadata": {},
   "outputs": [
    {
     "name": "stdout",
     "output_type": "stream",
     "text": [
      "Epoch 1/10\n",
      "1715/1715 [==============================] - 10s 6ms/step - loss: 0.1783 - accuracy: 0.9441 - val_loss: 0.0727 - val_accuracy: 0.9758\n",
      "Epoch 2/10\n",
      "1715/1715 [==============================] - 10s 6ms/step - loss: 0.0574 - accuracy: 0.9821 - val_loss: 0.0512 - val_accuracy: 0.9833\n",
      "Epoch 3/10\n",
      "1715/1715 [==============================] - 10s 6ms/step - loss: 0.0340 - accuracy: 0.9896 - val_loss: 0.0576 - val_accuracy: 0.9826\n",
      "Epoch 4/10\n",
      "1715/1715 [==============================] - 10s 6ms/step - loss: 0.0210 - accuracy: 0.9941 - val_loss: 0.0488 - val_accuracy: 0.9843\n",
      "Epoch 5/10\n",
      "1715/1715 [==============================] - 10s 6ms/step - loss: 0.0130 - accuracy: 0.9961 - val_loss: 0.0462 - val_accuracy: 0.9858\n",
      "Epoch 6/10\n",
      "1715/1715 [==============================] - 10s 6ms/step - loss: 0.0095 - accuracy: 0.9973 - val_loss: 0.0442 - val_accuracy: 0.9859\n",
      "Epoch 7/10\n",
      "1715/1715 [==============================] - 10s 6ms/step - loss: 0.0060 - accuracy: 0.9985 - val_loss: 0.0546 - val_accuracy: 0.9844\n",
      "Epoch 8/10\n",
      "1715/1715 [==============================] - 10s 6ms/step - loss: 0.0036 - accuracy: 0.9992 - val_loss: 0.0404 - val_accuracy: 0.9883\n",
      "Epoch 9/10\n",
      "1715/1715 [==============================] - 10s 6ms/step - loss: 0.0019 - accuracy: 0.9996 - val_loss: 0.0454 - val_accuracy: 0.9879\n",
      "Epoch 10/10\n",
      "1715/1715 [==============================] - 10s 6ms/step - loss: 0.0015 - accuracy: 0.9997 - val_loss: 0.0469 - val_accuracy: 0.9875\n"
     ]
    }
   ],
   "source": [
    "history = model.fit(x=x_train, y=y_train, epochs=10, validation_data=(x_test, y_test))"
   ]
  },
  {
   "cell_type": "code",
   "execution_count": 25,
   "metadata": {},
   "outputs": [
    {
     "name": "stdout",
     "output_type": "stream",
     "text": [
      "286/286 [==============================] - 1s 2ms/step - loss: 0.0469 - accuracy: 0.9875\n",
      "\n",
      "Test accuracy: 0.9875\n"
     ]
    }
   ],
   "source": [
    "test_loss, test_acc = model.evaluate(x=x_test, y=y_test)\n",
    "print(\"\\nTest accuracy: {:.4f}\".format(test_acc))"
   ]
  },
  {
   "cell_type": "code",
   "execution_count": 26,
   "metadata": {},
   "outputs": [
    {
     "data": {
      "text/plain": [
       "Text(0.5, 1.0, 'Training and validation loss')"
      ]
     },
     "execution_count": 26,
     "metadata": {},
     "output_type": "execute_result"
    },
    {
     "data": {
      "image/png": "[encoded data removed]",
      "text/plain": [
       "<Figure size 432x288 with 1 Axes>"
      ]
     },
     "metadata": {
      "needs_background": "light"
     },
     "output_type": "display_data"
    },
    {
     "data": {
      "image/png": "[encoded data removed]",
      "text/plain": [
       "<Figure size 432x288 with 1 Axes>"
      ]
     },
     "metadata": {
      "needs_background": "light"
     },
     "output_type": "display_data"
    }
   ],
   "source": [
    "acc = history.history['accuracy']\n",
    "val_acc = history.history['val_accuracy']\n",
    "loss = history.history['loss']\n",
    "val_loss = history.history['val_loss']\n",
    "\n",
    "epochs = range(len(acc))\n",
    "\n",
    "plt.figure()\n",
    "plt.plot(epochs, acc, '-o', label='train')\n",
    "plt.plot(epochs, val_acc, '-o', label='test')\n",
    "plt.legend(loc=0)\n",
    "plt.title('Training and validation accuracy')\n",
    "\n",
    "plt.figure()\n",
    "plt.plot(epochs, loss, '-o', label='train')\n",
    "plt.plot(epochs, val_loss, '-o', label='test')\n",
    "plt.legend(loc=0)\n",
    "plt.title('Training and validation loss')"
   ]
  },
  {
   "cell_type": "code",
   "execution_count": 27,
   "metadata": {},
   "outputs": [],
   "source": [
    "predictions = np.argmax(model.predict(x_test), axis=-1) + 1"
   ]
  },
  {
   "cell_type": "code",
   "execution_count": 28,
   "metadata": {},
   "outputs": [
    {
     "name": "stdout",
     "output_type": "stream",
     "text": [
      "Wrong prediction (1): real 9, pred 5\n",
      "Wrong prediction (2): real 2, pred 7\n",
      "Wrong prediction (3): real 5, pred 3\n",
      "Wrong prediction (4): real 8, pred 2\n",
      "Wrong prediction (5): real 2, pred 7\n",
      "Wrong prediction (6): real 2, pred 6\n",
      "Wrong prediction (7): real 2, pred 1\n",
      "Wrong prediction (8): real 8, pred 7\n",
      "Wrong prediction (9): real 3, pred 5\n",
      "Wrong prediction (10): real 1, pred 3\n",
      "Wrong prediction (11): real 6, pred 5\n",
      "Wrong prediction (12): real 7, pred 2\n",
      "Wrong prediction (13): real 6, pred 8\n",
      "Wrong prediction (14): real 4, pred 6\n",
      "Wrong prediction (15): real 6, pred 5\n",
      "Wrong prediction (16): real 7, pred 2\n",
      "Wrong prediction (17): real 9, pred 4\n",
      "Wrong prediction (18): real 4, pred 9\n",
      "Wrong prediction (19): real 9, pred 5\n",
      "Wrong prediction (20): real 7, pred 1\n",
      "Wrong prediction (21): real 8, pred 2\n",
      "Wrong prediction (22): real 5, pred 3\n",
      "Wrong prediction (23): real 9, pred 7\n",
      "Wrong prediction (24): real 7, pred 9\n",
      "Wrong prediction (25): real 1, pred 3\n",
      "Wrong prediction (26): real 8, pred 7\n",
      "Wrong prediction (27): real 3, pred 7\n",
      "Wrong prediction (28): real 9, pred 4\n",
      "Wrong prediction (29): real 5, pred 3\n",
      "Wrong prediction (30): real 7, pred 9\n",
      "Wrong prediction (31): real 9, pred 8\n",
      "Wrong prediction (32): real 4, pred 9\n",
      "Wrong prediction (33): real 6, pred 1\n",
      "Wrong prediction (34): real 9, pred 1\n",
      "Wrong prediction (35): real 9, pred 4\n",
      "Wrong prediction (36): real 9, pred 4\n",
      "Wrong prediction (37): real 2, pred 4\n",
      "Wrong prediction (38): real 5, pred 3\n",
      "Wrong prediction (39): real 7, pred 2\n",
      "Wrong prediction (40): real 6, pred 1\n",
      "Wrong prediction (41): real 9, pred 4\n",
      "Wrong prediction (42): real 4, pred 9\n",
      "Wrong prediction (43): real 4, pred 2\n",
      "Wrong prediction (44): real 3, pred 2\n",
      "Wrong prediction (45): real 3, pred 2\n",
      "Wrong prediction (46): real 9, pred 5\n",
      "Wrong prediction (47): real 9, pred 7\n",
      "Wrong prediction (48): real 1, pred 2\n",
      "Wrong prediction (49): real 8, pred 9\n",
      "Wrong prediction (50): real 9, pred 1\n",
      "Wrong prediction (51): real 6, pred 4\n",
      "Wrong prediction (52): real 4, pred 9\n",
      "Wrong prediction (53): real 8, pred 9\n",
      "Wrong prediction (54): real 4, pred 6\n",
      "Wrong prediction (55): real 7, pred 8\n",
      "Wrong prediction (56): real 6, pred 8\n",
      "Wrong prediction (57): real 5, pred 6\n",
      "Wrong prediction (58): real 1, pred 2\n",
      "Wrong prediction (59): real 4, pred 2\n",
      "Wrong prediction (60): real 2, pred 7\n",
      "Wrong prediction (61): real 7, pred 9\n",
      "Wrong prediction (62): real 3, pred 2\n",
      "Wrong prediction (63): real 2, pred 7\n",
      "Wrong prediction (64): real 5, pred 3\n",
      "Wrong prediction (65): real 9, pred 4\n",
      "Wrong prediction (66): real 3, pred 2\n",
      "Wrong prediction (67): real 8, pred 7\n",
      "Wrong prediction (68): real 6, pred 8\n",
      "Wrong prediction (69): real 7, pred 9\n",
      "Wrong prediction (70): real 8, pred 4\n",
      "Wrong prediction (71): real 9, pred 4\n",
      "Wrong prediction (72): real 9, pred 4\n",
      "Wrong prediction (73): real 7, pred 2\n",
      "Wrong prediction (74): real 1, pred 6\n",
      "Wrong prediction (75): real 2, pred 8\n",
      "Wrong prediction (76): real 3, pred 7\n",
      "Wrong prediction (77): real 8, pred 5\n",
      "Wrong prediction (78): real 5, pred 3\n",
      "Wrong prediction (79): real 3, pred 8\n",
      "Wrong prediction (80): real 5, pred 3\n",
      "Wrong prediction (81): real 3, pred 9\n",
      "Wrong prediction (82): real 9, pred 5\n",
      "Wrong prediction (83): real 9, pred 3\n",
      "Wrong prediction (84): real 9, pred 3\n",
      "Wrong prediction (85): real 7, pred 1\n",
      "Wrong prediction (86): real 9, pred 5\n",
      "Wrong prediction (87): real 8, pred 6\n",
      "Wrong prediction (88): real 7, pred 2\n",
      "Wrong prediction (89): real 7, pred 2\n",
      "Wrong prediction (90): real 7, pred 2\n",
      "Wrong prediction (91): real 7, pred 2\n",
      "Wrong prediction (92): real 1, pred 8\n",
      "Wrong prediction (93): real 9, pred 7\n",
      "Wrong prediction (94): real 2, pred 7\n",
      "Wrong prediction (95): real 6, pred 3\n",
      "Wrong prediction (96): real 6, pred 5\n",
      "Wrong prediction (97): real 5, pred 6\n",
      "Wrong prediction (98): real 9, pred 4\n",
      "Wrong prediction (99): real 5, pred 6\n",
      "Wrong prediction (100): real 2, pred 7\n",
      "Wrong prediction (101): real 5, pred 6\n",
      "Wrong prediction (102): real 1, pred 9\n",
      "Wrong prediction (103): real 1, pred 6\n",
      "Wrong prediction (104): real 3, pred 2\n",
      "Wrong prediction (105): real 3, pred 2\n",
      "Wrong prediction (106): real 3, pred 2\n",
      "Wrong prediction (107): real 6, pred 8\n",
      "Wrong prediction (108): real 6, pred 5\n",
      "Wrong prediction (109): real 6, pred 9\n",
      "Wrong prediction (110): real 7, pred 3\n",
      "Wrong prediction (111): real 7, pred 8\n",
      "Wrong prediction (112): real 7, pred 3\n",
      "Wrong prediction (113): real 7, pred 3\n",
      "Wrong prediction (114): real 8, pred 9\n"
     ]
    }
   ],
   "source": [
    "i = 0\n",
    "for pred, real in zip(predictions, np.argmax(y_test, axis=-1) + 1):\n",
    "    if pred != real:\n",
    "        i += 1\n",
    "        print('Wrong prediction ({}): real {}, pred {}'.format(i, real, pred))"
   ]
  },
  {
   "cell_type": "code",
   "execution_count": 29,
   "metadata": {
    "scrolled": true
   },
   "outputs": [
    {
     "name": "stdout",
     "output_type": "stream",
     "text": [
      "WARNING:tensorflow:From //anaconda3/lib/python3.7/site-packages/tensorflow/python/training/tracking/tracking.py:111: Model.state_updates (from tensorflow.python.keras.engine.training) is deprecated and will be removed in a future version.\n",
      "Instructions for updating:\n",
      "This property should not be used in TensorFlow 2.0, as updates are applied automatically.\n",
      "WARNING:tensorflow:From //anaconda3/lib/python3.7/site-packages/tensorflow/python/training/tracking/tracking.py:111: Layer.updates (from tensorflow.python.keras.engine.base_layer) is deprecated and will be removed in a future version.\n",
      "Instructions for updating:\n",
      "This property should not be used in TensorFlow 2.0, as updates are applied automatically.\n",
      "INFO:tensorflow:Assets written to: num_predict/assets\n"
     ]
    }
   ],
   "source": [
    "model.save('num_predict')"
   ]
  },
  {
   "cell_type": "markdown",
   "metadata": {},
   "source": [
    "# Load and test model"
   ]
  },
  {
   "cell_type": "code",
   "execution_count": 30,
   "metadata": {},
   "outputs": [],
   "source": [
    "reconstructed_model = tf.keras.models.load_model('num_predict')"
   ]
  },
  {
   "cell_type": "code",
   "execution_count": 31,
   "metadata": {},
   "outputs": [],
   "source": [
    "np.testing.assert_allclose(model.predict(x_test), reconstructed_model.predict(x_test))"
   ]
  },
  {
   "cell_type": "code",
   "execution_count": 32,
   "metadata": {},
   "outputs": [
    {
     "data": {
      "text/plain": [
       "3"
      ]
     },
     "execution_count": 32,
     "metadata": {},
     "output_type": "execute_result"
    },
    {
     "data": {
      "image/png": "[encoded data removed]",
      "text/plain": [
       "<Figure size 432x288 with 1 Axes>"
      ]
     },
     "metadata": {
      "needs_background": "light"
     },
     "output_type": "display_data"
    }
   ],
   "source": [
    "img = tf_image.load_img('tmp_img.jpg', target_size=(28, 28))\n",
    "  \n",
    "x = tf_image.img_to_array(img)\n",
    "x = np.expand_dims(x, axis=0)\n",
    "img_array = np.vstack([x])\n",
    "img_gray = tf.image.rgb_to_grayscale(img_array)\n",
    "img_gray = 1.0 - (img_gray / 255.0)\n",
    "\n",
    "plt.imshow(img_gray.numpy()[0, :, :, 0], cmap='gray', vmin=0, vmax=1)\n",
    "\n",
    "p = reconstructed_model.predict(img_gray)\n",
    "np.argmax(p) + 1"
   ]
  },
  {
   "cell_type": "markdown",
   "metadata": {},
   "source": [
    "# Create grid"
   ]
  },
  {
   "cell_type": "code",
   "execution_count": 33,
   "metadata": {},
   "outputs": [],
   "source": [
    "import sys\n",
    "from PyQt5.QtWidgets import QApplication, QLabel, QWidget, QHBoxLayout\n",
    "from PyQt5.QtGui import QPainter, QPainterPath, QPen, QPixmap, QRegion, QFont\n",
    "from PyQt5 import QtCore\n",
    "from PyQt5.QtCore import Qt, QPoint"
   ]
  },
  {
   "cell_type": "code",
   "execution_count": 34,
   "metadata": {},
   "outputs": [],
   "source": [
    "W = 56\n",
    "H = 56\n",
    "smallBorder = 2\n",
    "largeBorder = 4\n",
    "nRows = 9\n",
    "nCols = 9\n",
    "savedImage = 'tmp_img.jpg'"
   ]
  },
  {
   "cell_type": "code",
   "execution_count": 35,
   "metadata": {},
   "outputs": [],
   "source": [
    "class NumberBox(QLabel):\n",
    "    \n",
    "    def __init__(self, x, y, parent=None):\n",
    "        super().__init__(parent)\n",
    "        self.setStyleSheet('background-color: white;'\n",
    "                           'border: 0px;')\n",
    "        self.setGeometry(x, y, W, H)\n",
    "        self.setFixedSize(W, H)\n",
    "        \n",
    "        self.path = QPainterPath()\n",
    "        self.drawing = False\n",
    "        self.number = ''\n",
    "        \n",
    "    def saveImage(self, fileName):\n",
    "        pix = QPixmap(W, H)\n",
    "        self.render(pix)\n",
    "        pix.save(fileName)\n",
    "        \n",
    "    def clearImage(self):\n",
    "        self.path = QPainterPath()\n",
    "        self.update()\n",
    "        \n",
    "    def paintEvent(self, event):\n",
    "        painter = QPainter(self)\n",
    "        painter.setPen(QPen(Qt.black, 2, Qt.SolidLine))\n",
    "        if self.drawing:\n",
    "            painter.drawPath(self.path)\n",
    "        else:\n",
    "            font = QFont()\n",
    "            font.setPointSize(W // 2)\n",
    "            painter.setFont(font)\n",
    "            painter.drawText(W // 4, H // 4, W // 2, H // 2, QtCore.Qt.AlignCenter, self.number)\n",
    "\n",
    "    def mousePressEvent(self, event):\n",
    "        if event.button() == Qt.LeftButton:\n",
    "            self.drawing = True\n",
    "            self.path.moveTo(event.pos())\n",
    "            self.update()\n",
    "\n",
    "    def mouseMoveEvent(self, event):\n",
    "        if event.buttons() and Qt.LeftButton and self.drawing:\n",
    "            self.path.lineTo(event.pos())\n",
    "            self.update()\n",
    "\n",
    "    def mouseReleaseEvent(self, event):\n",
    "        if event.button() == Qt.LeftButton:\n",
    "            self.saveImage(savedImage)\n",
    "            self.classifyNumber()\n",
    "            self.clearImage()\n",
    "            self.drawing = False\n",
    "            self.update()\n",
    "            \n",
    "    def classifyNumber(self):\n",
    "        img = tf_image.load_img(savedImage, target_size=(W // 2, H // 2))\n",
    "  \n",
    "        x = tf_image.img_to_array(img)\n",
    "        x = np.expand_dims(x, axis=0)\n",
    "        img_array = np.vstack([x])\n",
    "        img_gray = tf.image.rgb_to_grayscale(img_array)\n",
    "        img_gray = 1.0 - (img_gray / 255.0)\n",
    "\n",
    "        p = reconstructed_model.predict(img_gray)\n",
    "        self.number = str(np.argmax(p) + 1)"
   ]
  },
  {
   "cell_type": "code",
   "execution_count": 36,
   "metadata": {},
   "outputs": [],
   "source": [
    "class Board(QWidget):\n",
    "    \n",
    "    def __init__(self):\n",
    "        super().__init__()\n",
    "        \n",
    "        self.h = 6 * smallBorder + 4 * largeBorder + 9 * H\n",
    "        self.w = 6 * smallBorder + 4 * largeBorder + 9 * H\n",
    "        self.setFixedSize(self.w, self.h)\n",
    "        self.setStyleSheet('QLabel { background-color : black; }')\n",
    "        self.setWindowTitle('PySudoku')\n",
    "        \n",
    "        boxes = []\n",
    "        yPos = largeBorder\n",
    "        for row in range(nRows):\n",
    "            xPos = largeBorder\n",
    "            if row > 0:\n",
    "                if row % 3 == 0:\n",
    "                    yPos += H + largeBorder\n",
    "                else:\n",
    "                    yPos += H + smallBorder\n",
    "                    \n",
    "            for col in range(nCols):\n",
    "                if col > 0:\n",
    "                    if col % 3 == 0:\n",
    "                        xPos += W + largeBorder\n",
    "                    else:\n",
    "                        xPos += W + smallBorder\n",
    "                \n",
    "                boxes.append(NumberBox(xPos, yPos, self))\n",
    "                \n",
    "        self.drawBorder()\n",
    "        self.drawInnerLargeLines()\n",
    "        self.drawInnerSmallLines()\n",
    "\n",
    "    def drawBorder(self):\n",
    "        left = QLabel(self)\n",
    "        left.setGeometry(0, 0, largeBorder, self.h)\n",
    "        up = QLabel(self)\n",
    "        up.setGeometry(0, 0, self.w, largeBorder)\n",
    "        right = QLabel(self)\n",
    "        right.setGeometry(self.w - largeBorder, 0, largeBorder, self.h)\n",
    "        down = QLabel(self)\n",
    "        down.setGeometry(0, self.h - largeBorder, self.w, largeBorder)\n",
    "        \n",
    "    def drawInnerLargeLines(self):\n",
    "        l1 = QLabel(self)\n",
    "        l1.setGeometry(largeBorder + 2 * smallBorder + 3 * W, 0, largeBorder, self.h)\n",
    "        l2 = QLabel(self)\n",
    "        l2.setGeometry(2 * largeBorder + 4 * smallBorder + 6 * W, 0, largeBorder, self.h)\n",
    "        l3 = QLabel(self)\n",
    "        l3.setGeometry(0, largeBorder + 2 * smallBorder + 3 * H, self.w, largeBorder)\n",
    "        l4 = QLabel(self)\n",
    "        l4.setGeometry(0, 2 * largeBorder + 4 * smallBorder + 6 * H, self.w, largeBorder)\n",
    "        \n",
    "    def drawInnerSmallLines(self):\n",
    "        s1 = QLabel(self)\n",
    "        s1.setGeometry(largeBorder + W, 0, smallBorder, self.h)\n",
    "        s2 = QLabel(self)\n",
    "        s2.setGeometry(largeBorder + smallBorder + 2 * W, 0, smallBorder, self.h)\n",
    "        s3 = QLabel(self)\n",
    "        s3.setGeometry(2 * largeBorder + 2 * smallBorder + 4 * W, 0, smallBorder, self.h)\n",
    "        s4 = QLabel(self)\n",
    "        s4.setGeometry(2 * largeBorder + 3 * smallBorder + 5 * W, 0, smallBorder, self.h)\n",
    "        s5 = QLabel(self)\n",
    "        s5.setGeometry(3 * largeBorder + 4 * smallBorder + 7 * W, 0, smallBorder, self.h)\n",
    "        s6 = QLabel(self)\n",
    "        s6.setGeometry(3 * largeBorder + 5 * smallBorder + 8 * W, 0, smallBorder, self.h)\n",
    "        s1 = QLabel(self)\n",
    "        s1.setGeometry(0, largeBorder + H, self.w, smallBorder)\n",
    "        s2 = QLabel(self)\n",
    "        s2.setGeometry(0, largeBorder + smallBorder + 2 * H, self.w, smallBorder)\n",
    "        s3 = QLabel(self)\n",
    "        s3.setGeometry(0, 2 * largeBorder + 2 * smallBorder + 4 * H, self.w, smallBorder)\n",
    "        s4 = QLabel(self)\n",
    "        s4.setGeometry(0, 2 * largeBorder + 3 * smallBorder + 5 * H, self.w, smallBorder)\n",
    "        s5 = QLabel(self)\n",
    "        s5.setGeometry(0, 3 * largeBorder + 4 * smallBorder + 7 * H, self.w, smallBorder)\n",
    "        s6 = QLabel(self)\n",
    "        s6.setGeometry(0, 3 * largeBorder + 5 * smallBorder + 8 * H, self.w, smallBorder)"
   ]
  },
  {
   "cell_type": "code",
   "execution_count": 37,
   "metadata": {},
   "outputs": [],
   "source": [
    "if __name__ == '__main__':\n",
    "    app = QtCore.QCoreApplication.instance()\n",
    "    if app is None:\n",
    "        app = QApplication(sys.argv)\n",
    "\n",
    "    mw = Board()\n",
    "    mw.show()\n",
    "\n",
    "    app.exec_()"
   ]
  },
  {
   "cell_type": "code",
   "execution_count": null,
   "metadata": {},
   "outputs": [],
   "source": []
  }
 ],
 "metadata": {
  "kernelspec": {
   "display_name": "Python 3",
   "language": "python",
   "name": "python3"
  },
  "language_info": {
   "codemirror_mode": {
    "name": "ipython",
    "version": 3
   },
   "file_extension": ".py",
   "mimetype": "text/x-python",
   "name": "python",
   "nbconvert_exporter": "python",
   "pygments_lexer": "ipython3",
   "version": "3.7.3"
  }
 },
 "nbformat": 4,
 "nbformat_minor": 2
}
